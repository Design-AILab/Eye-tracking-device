{
 "cells": [
  {
   "cell_type": "code",
   "execution_count": 4,
   "metadata": {},
   "outputs": [
    {
     "data": {
      "image/png": "[encoded data removed]",
      "text/plain": [
       "<Figure size 432x288 with 1 Axes>"
      ]
     },
     "metadata": {
      "needs_background": "light"
     },
     "output_type": "display_data"
    }
   ],
   "source": [
    "# https://stackoverflow.com/questions/47915951/heatmap-in-python-to-represent-x-y-coordinates-in-a-given-rectangular-area\n",
    "\n",
    "\n",
    "import numpy as np\n",
    "import matplotlib.pyplot as plt\n",
    "% matplotlib inline\n",
    "x = np.random.rayleigh(50, size=5000)\n",
    "y = np.random.rayleigh(50, size=5000)\n",
    "\n",
    "\n",
    "plt.hist2d(x,y, bins=[np.arange(0,400,5),np.arange(0,300,5)])\n",
    "\n",
    "plt.show()"
   ]
  },
  {
   "cell_type": "code",
   "execution_count": 7,
   "metadata": {},
   "outputs": [
    {
     "data": {
      "text/plain": [
       "(array([[ 1.,  0.,  0.,  0.,  0.,  0.,  0.,  0.,  1., 20.],\n",
       "        [ 1.,  1.,  0.,  0.,  0.,  0.,  0.,  0.,  1.,  0.],\n",
       "        [ 0.,  2.,  1.,  0.,  0.,  0.,  0.,  5.,  7.,  0.],\n",
       "        [ 0.,  0.,  2.,  1.,  0.,  0.,  1.,  5.,  3.,  0.],\n",
       "        [ 0.,  0.,  1.,  0.,  2.,  3.,  3.,  1.,  1.,  0.],\n",
       "        [ 0.,  0.,  3.,  1.,  1.,  1.,  2.,  0.,  0.,  0.],\n",
       "        [ 0.,  0.,  3.,  1.,  2.,  1.,  3.,  3.,  0.,  0.],\n",
       "        [ 0.,  0.,  0.,  0.,  0.,  0.,  1.,  2.,  0.,  0.],\n",
       "        [ 0.,  0.,  0.,  1.,  0.,  0.,  0.,  1.,  1.,  0.],\n",
       "        [ 0.,  0.,  0.,  0.,  2.,  0.,  0.,  0.,  0.,  0.]]),\n",
       " array([216. , 286.8, 357.6, 428.4, 499.2, 570. , 640.8, 711.6, 782.4,\n",
       "        853.2, 924. ]),\n",
       " array([106. , 162.7, 219.4, 276.1, 332.8, 389.5, 446.2, 502.9, 559.6,\n",
       "        616.3, 673. ]),\n",
       " <matplotlib.image.AxesImage at 0x1194c8320>)"
      ]
     },
     "execution_count": 7,
     "metadata": {},
     "output_type": "execute_result"
    },
    {
     "data": {
      "image/png": "[encoded data removed]",
      "text/plain": [
       "<Figure size 432x288 with 1 Axes>"
      ]
     },
     "metadata": {
      "needs_background": "light"
     },
     "output_type": "display_data"
    }
   ],
   "source": [
    "# sample coords\n",
    "sample = [[673, 243], [649, 238], [656, 237], [661, 240], [665, 241], [660, 239], [629, 228], [648, 235], [671, 243], [595, 216], [640, 231], [641, 232], [628, 227], [620, 224], [637, 230], [635, 229], [640, 231], [651, 236], [629, 228], [641, 232], [670, 247], [583, 317], [488, 505], [573, 373], [523, 441], [563, 415], [596, 362], [560, 501], [579, 453], [562, 491], [539, 507], [581, 391], [558, 386], [523, 413], [569, 403], [528, 422], [518, 433], [549, 443], [560, 403], [571, 455], [576, 400], [542, 409], [533, 425], [530, 450], [494, 480], [457, 620], [462, 547], [417, 567], [405, 567], [411, 502], [253, 607], [378, 586], [251, 650], [257, 686], [261, 701], [382, 675], [370, 661], [269, 629], [269, 629], [313, 607], [282, 697], [378, 551], [377, 534], [512, 499], [486, 563], [529, 660], [506, 672], [513, 745], [555, 698], [509, 820], [566, 813], [489, 735], [372, 924], [364, 913], [322, 836], [533, 755], [408, 636], [414, 676], [495, 669], [487, 649], [494, 649], [471, 637], [236, 460], [245, 564], [307, 483], [185, 322], [241, 418], [152, 319], [106, 255], [217, 404], [220, 436], [205, 377]]\n",
    "x = []\n",
    "y = []\n",
    "for xx,yy in sample:\n",
    "    x.append(xx)\n",
    "    y.append(yy)\n",
    "plt.hist2d(x,y)"
   ]
  },
  {
   "cell_type": "code",
   "execution_count": null,
   "metadata": {},
   "outputs": [],
   "source": []
  }
 ],
 "metadata": {
  "kernelspec": {
   "display_name": "Python 3",
   "language": "python",
   "name": "python3"
  },
  "language_info": {
   "codemirror_mode": {
    "name": "ipython",
    "version": 3
   },
   "file_extension": ".py",
   "mimetype": "text/x-python",
   "name": "python",
   "nbconvert_exporter": "python",
   "pygments_lexer": "ipython3",
   "version": "3.6.5"
  }
 },
 "nbformat": 4,
 "nbformat_minor": 2
}
